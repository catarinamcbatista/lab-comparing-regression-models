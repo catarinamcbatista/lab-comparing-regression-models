{
 "cells": [
  {
   "cell_type": "code",
   "execution_count": 1,
   "metadata": {},
   "outputs": [],
   "source": [
    "import pandas as pd\n",
    "import numpy as np\n",
    "import datetime\n",
    "import warnings\n",
    "\n",
    "warnings.filterwarnings('ignore')\n",
    "warnings.filterwarnings(\"ignore\", message=\"numpy.ufunc size changed\")\n",
    "\n",
    "import matplotlib.pyplot as plt\n",
    "import seaborn as sns\n",
    "sns.set_style(\"whitegrid\")\n",
    "\n",
    "%matplotlib inline\n",
    "\n",
    "pd.set_option('display.max_columns', None)"
   ]
  },
  {
   "cell_type": "code",
   "execution_count": 2,
   "metadata": {},
   "outputs": [],
   "source": [
    "customer_df = pd.read_csv(\"we_fn_use_c_marketing_customer_value_analysis.csv\")"
   ]
  },
  {
   "cell_type": "code",
   "execution_count": 3,
   "metadata": {},
   "outputs": [
    {
     "data": {
      "text/plain": [
       "dtype('<M8[ns]')"
      ]
     },
     "execution_count": 3,
     "metadata": {},
     "output_type": "execute_result"
    }
   ],
   "source": [
    "customer_df.columns = map(str.lower, customer_df.columns)\n",
    "customer_df.columns = customer_df.columns.str.replace(' ','_')\n",
    "customer_df=customer_df.rename(columns = {'effective_to_date':'datetime'})\n",
    "customer_df['datetime'].dtypes\n",
    "customer_df['datetime']= pd.to_datetime(customer_df['datetime'])\n",
    "customer_df['datetime'].dtypes"
   ]
  },
  {
   "cell_type": "code",
   "execution_count": 4,
   "metadata": {},
   "outputs": [],
   "source": [
    "categorical = customer_df.select_dtypes(include='object')\n",
    "discrete = pd.DataFrame(customer_df,columns=['customer_lifetime_value','income','monthly_premium_auto',\n",
    "                       'number_of_open_complaints','number_of_policies','total_claim_amount'])\n",
    "continuous = pd.DataFrame(customer_df,columns=['months_since_last_claim','months_since_policy_inception','datetime'])"
   ]
  },
  {
   "cell_type": "code",
   "execution_count": 5,
   "metadata": {},
   "outputs": [],
   "source": [
    "cat = categorical.columns\n",
    "x = [j for i in cat for j in categorical[i].unique()[1:]]\n",
    "\n",
    "### ONE HOT ENCODING for categorical data\n",
    "\n",
    "from sklearn.preprocessing import OneHotEncoder\n",
    "encoder = OneHotEncoder(handle_unknown='error', drop='first').fit(categorical)\n",
    "encoded = encoder.transform(categorical).toarray()\n",
    "cat_data = pd.DataFrame(encoded , columns = x)"
   ]
  },
  {
   "cell_type": "code",
   "execution_count": 6,
   "metadata": {},
   "outputs": [],
   "source": [
    "continuous['year'] = continuous['datetime'].dt.year\n",
    "continuous['month'] = continuous['datetime'].dt.month\n",
    "continuous['week'] = continuous['datetime'].dt.week"
   ]
  },
  {
   "cell_type": "code",
   "execution_count": 7,
   "metadata": {},
   "outputs": [],
   "source": [
    "customer_final = pd.concat([discrete,continuous,cat_data], axis=1)"
   ]
  },
  {
   "cell_type": "code",
   "execution_count": 8,
   "metadata": {},
   "outputs": [],
   "source": [
    "customer_final = customer_final.drop('datetime',axis=1)"
   ]
  },
  {
   "cell_type": "markdown",
   "metadata": {},
   "source": [
    "Lab : Regression Model\n",
    "\n",
    "1.Train-test split with Linear Regression"
   ]
  },
  {
   "cell_type": "code",
   "execution_count": 9,
   "metadata": {},
   "outputs": [],
   "source": [
    "y = customer_final['total_claim_amount']\n",
    "\n",
    "X = customer_final.drop('total_claim_amount',axis=1)"
   ]
  },
  {
   "cell_type": "code",
   "execution_count": 11,
   "metadata": {},
   "outputs": [],
   "source": [
    "from sklearn.model_selection import train_test_split\n",
    "X_train, X_test, y_train, y_test = train_test_split(X, y, test_size=0.2, random_state=19698)"
   ]
  },
  {
   "cell_type": "code",
   "execution_count": 12,
   "metadata": {},
   "outputs": [],
   "source": [
    "from sklearn import linear_model\n",
    "from sklearn.linear_model import LinearRegression"
   ]
  },
  {
   "cell_type": "code",
   "execution_count": 14,
   "metadata": {},
   "outputs": [],
   "source": [
    "lm = linear_model.LinearRegression()"
   ]
  },
  {
   "cell_type": "code",
   "execution_count": 15,
   "metadata": {},
   "outputs": [],
   "source": [
    "lm_model = lm.fit(X_train,y_train)"
   ]
  },
  {
   "cell_type": "code",
   "execution_count": 16,
   "metadata": {},
   "outputs": [],
   "source": [
    "lm_predictions = lm_model.predict(X_test)"
   ]
  },
  {
   "cell_type": "code",
   "execution_count": 23,
   "metadata": {},
   "outputs": [
    {
     "name": "stdout",
     "output_type": "stream",
     "text": [
      "The mean absolute error of the model in the test set is: 121.72\n",
      "The mean squared error of the model in the test set is: 26052.39\n",
      "The root mean squared error of the model in the test set is: 161.41\n",
      "The R2 of the model in the test set is: 0.68\n"
     ]
    }
   ],
   "source": [
    "from sklearn.metrics import mean_absolute_error\n",
    "from sklearn.metrics import mean_squared_error\n",
    "from sklearn.metrics import r2_score\n",
    "\n",
    "MAE = mean_absolute_error(y_test,lm_predictions)\n",
    "MSE = mean_squared_error(y_test,lm_predictions)\n",
    "RMSE = np.sqrt(MSE)\n",
    "R2 = r2_score(y_test,lm_predictions)\n",
    "\n",
    "print(\"The mean absolute error of the model in the test set is: %6.2f\" % (MAE))\n",
    "print(\"The mean squared error of the model in the test set is: %6.2f\" % (MSE))\n",
    "print(\"The root mean squared error of the model in the test set is: %6.2f\" % (RMSE))\n",
    "print(\"The R2 of the model in the test set is: %4.2f\" % (R2))"
   ]
  },
  {
   "cell_type": "markdown",
   "metadata": {},
   "source": [
    "Now define a function that takes a list of models and train (and tests) them so we can try a lot of them without repeating code."
   ]
  },
  {
   "cell_type": "code",
   "execution_count": 24,
   "metadata": {},
   "outputs": [],
   "source": [
    "def model_test(z):\n",
    "    X_train, X_test, y_train, y_test = train_test_split(X, y, test_size=0.2, random_state=19698)\n",
    "    lm = z\n",
    "    lm_model = lm.fit(X_train,y_train)\n",
    "    lm_predictions = lm_model.predict(X_test)\n",
    "    MAE = mean_absolute_error(y_test,lm_predictions)\n",
    "    MSE = mean_squared_error(y_test,lm_predictions)\n",
    "    RMSE = np.sqrt(MSE)\n",
    "    R2 = r2_score(y_test,lm_predictions)\n",
    "    print(\"The mean absolute error of the model in the test set is: %6.2f\" % (MAE))\n",
    "    print(\"The mean squared error of the model in the test set is: %6.2f\" % (MSE))\n",
    "    print(\"The root mean squared error of the model in the test set is: %6.2f\" % (RMSE))\n",
    "    print(\"The R2 of the model in the test set is: %4.2f\" % (R2))"
   ]
  },
  {
   "cell_type": "code",
   "execution_count": 28,
   "metadata": {},
   "outputs": [
    {
     "name": "stdout",
     "output_type": "stream",
     "text": [
      "The mean absolute error of the model in the test set is: 121.72\n",
      "The mean squared error of the model in the test set is: 26052.39\n",
      "The root mean squared error of the model in the test set is: 161.41\n",
      "The R2 of the model in the test set is: 0.68\n"
     ]
    }
   ],
   "source": [
    "model_test(linear_model.LinearRegression())"
   ]
  },
  {
   "cell_type": "code",
   "execution_count": 30,
   "metadata": {},
   "outputs": [
    {
     "name": "stdout",
     "output_type": "stream",
     "text": [
      "The mean absolute error of the model in the test set is: 174.72\n",
      "The mean squared error of the model in the test set is: 66726.84\n",
      "The root mean squared error of the model in the test set is: 258.32\n",
      "The R2 of the model in the test set is: 0.17\n"
     ]
    }
   ],
   "source": [
    "from sklearn.neighbors import KNeighborsRegressor\n",
    "\n",
    "model_test(KNeighborsRegressor(n_neighbors=2))"
   ]
  },
  {
   "cell_type": "code",
   "execution_count": 31,
   "metadata": {},
   "outputs": [
    {
     "name": "stdout",
     "output_type": "stream",
     "text": [
      "The mean absolute error of the model in the test set is: 168.40\n",
      "The mean squared error of the model in the test set is: 62065.64\n",
      "The root mean squared error of the model in the test set is: 249.13\n",
      "The R2 of the model in the test set is: 0.23\n"
     ]
    }
   ],
   "source": [
    "model_test(KNeighborsRegressor(n_neighbors=3))"
   ]
  },
  {
   "cell_type": "code",
   "execution_count": 51,
   "metadata": {},
   "outputs": [],
   "source": [
    "def kneighbors_test(z):\n",
    "    X_train, X_test, y_train, y_test = train_test_split(X, y, test_size=0.2, random_state=19698)\n",
    "    km = KNeighborsRegressor(n_neighbors=z)\n",
    "    km_model = km.fit(X_train,y_train)\n",
    "    km_predictions = km_model.predict(X_test)\n",
    "    km_scores= scores.append(model.score(X_test, y_test))\n",
    "    MAE = mean_absolute_error(y_test,km_predictions)\n",
    "    MSE = mean_squared_error(y_test,km_predictions)\n",
    "    RMSE = np.sqrt(MSE)\n",
    "    R2 = r2_score(y_test,km_predictions)\n",
    "    print(\"The mean absolute error of the model in the test set is: %6.2f\" % (MAE))\n",
    "    print(\"The mean squared error of the model in the test set is: %6.2f\" % (MSE))\n",
    "    print(\"The root mean squared error of the model in the test set is: %6.2f\" % (RMSE))\n",
    "    print(\"The R2 of the model in the test set is: %4.2f\" % (R2))"
   ]
  },
  {
   "cell_type": "code",
   "execution_count": 42,
   "metadata": {},
   "outputs": [
    {
     "name": "stdout",
     "output_type": "stream",
     "text": [
      "The mean absolute error of the model in the test set is: 174.72\n",
      "The mean squared error of the model in the test set is: 66726.84\n",
      "The root mean squared error of the model in the test set is: 258.32\n",
      "The R2 of the model in the test set is: 0.17\n"
     ]
    }
   ],
   "source": [
    "kneighbors_test(2)"
   ]
  },
  {
   "cell_type": "code",
   "execution_count": 43,
   "metadata": {},
   "outputs": [
    {
     "name": "stdout",
     "output_type": "stream",
     "text": [
      "The mean absolute error of the model in the test set is: 168.40\n",
      "The mean squared error of the model in the test set is: 62065.64\n",
      "The root mean squared error of the model in the test set is: 249.13\n",
      "The R2 of the model in the test set is: 0.23\n"
     ]
    }
   ],
   "source": [
    "kneighbors_test(3)"
   ]
  },
  {
   "cell_type": "code",
   "execution_count": 44,
   "metadata": {},
   "outputs": [
    {
     "name": "stdout",
     "output_type": "stream",
     "text": [
      "The mean absolute error of the model in the test set is: 166.13\n",
      "The mean squared error of the model in the test set is: 59823.17\n",
      "The root mean squared error of the model in the test set is: 244.59\n",
      "The R2 of the model in the test set is: 0.26\n"
     ]
    }
   ],
   "source": [
    "kneighbors_test(4)"
   ]
  },
  {
   "cell_type": "code",
   "execution_count": 45,
   "metadata": {},
   "outputs": [
    {
     "name": "stdout",
     "output_type": "stream",
     "text": [
      "The mean absolute error of the model in the test set is: 167.15\n",
      "The mean squared error of the model in the test set is: 58967.42\n",
      "The root mean squared error of the model in the test set is: 242.83\n",
      "The R2 of the model in the test set is: 0.27\n"
     ]
    }
   ],
   "source": [
    "kneighbors_test(5)"
   ]
  },
  {
   "cell_type": "code",
   "execution_count": 46,
   "metadata": {},
   "outputs": [
    {
     "name": "stdout",
     "output_type": "stream",
     "text": [
      "The mean absolute error of the model in the test set is: 167.31\n",
      "The mean squared error of the model in the test set is: 58122.67\n",
      "The root mean squared error of the model in the test set is: 241.09\n",
      "The R2 of the model in the test set is: 0.28\n"
     ]
    }
   ],
   "source": [
    "kneighbors_test(6)"
   ]
  },
  {
   "cell_type": "code",
   "execution_count": 47,
   "metadata": {},
   "outputs": [
    {
     "name": "stdout",
     "output_type": "stream",
     "text": [
      "The mean absolute error of the model in the test set is: 174.72\n",
      "The mean squared error of the model in the test set is: 66726.84\n",
      "The root mean squared error of the model in the test set is: 258.32\n",
      "The R2 of the model in the test set is: 0.17\n",
      "The mean absolute error of the model in the test set is: 168.40\n",
      "The mean squared error of the model in the test set is: 62065.64\n",
      "The root mean squared error of the model in the test set is: 249.13\n",
      "The R2 of the model in the test set is: 0.23\n",
      "The mean absolute error of the model in the test set is: 166.13\n",
      "The mean squared error of the model in the test set is: 59823.17\n",
      "The root mean squared error of the model in the test set is: 244.59\n",
      "The R2 of the model in the test set is: 0.26\n",
      "The mean absolute error of the model in the test set is: 167.15\n",
      "The mean squared error of the model in the test set is: 58967.42\n",
      "The root mean squared error of the model in the test set is: 242.83\n",
      "The R2 of the model in the test set is: 0.27\n",
      "The mean absolute error of the model in the test set is: 167.31\n",
      "The mean squared error of the model in the test set is: 58122.67\n",
      "The root mean squared error of the model in the test set is: 241.09\n",
      "The R2 of the model in the test set is: 0.28\n",
      "The mean absolute error of the model in the test set is: 167.71\n",
      "The mean squared error of the model in the test set is: 57744.53\n",
      "The root mean squared error of the model in the test set is: 240.30\n",
      "The R2 of the model in the test set is: 0.28\n",
      "The mean absolute error of the model in the test set is: 170.20\n",
      "The mean squared error of the model in the test set is: 58525.46\n",
      "The root mean squared error of the model in the test set is: 241.92\n",
      "The R2 of the model in the test set is: 0.27\n",
      "The mean absolute error of the model in the test set is: 171.18\n",
      "The mean squared error of the model in the test set is: 58578.70\n",
      "The root mean squared error of the model in the test set is: 242.03\n",
      "The R2 of the model in the test set is: 0.27\n"
     ]
    }
   ],
   "source": [
    "for i in range(2,10):\n",
    "    kneighbors_test(i)"
   ]
  },
  {
   "cell_type": "code",
   "execution_count": 56,
   "metadata": {},
   "outputs": [
    {
     "name": "stdout",
     "output_type": "stream",
     "text": [
      "The mean absolute error of the model in the test set is: 120.65\n",
      "The mean squared error of the model in the test set is: 30722.06\n",
      "The root mean squared error of the model in the test set is: 175.28\n",
      "The R2 of the model in the test set is: 0.62\n"
     ]
    }
   ],
   "source": [
    "from sklearn.neural_network import MLPRegressor\n",
    "from sklearn.datasets import make_regression\n",
    "\n",
    "model_test(MLPRegressor(random_state=1,max_iter=500))"
   ]
  },
  {
   "cell_type": "code",
   "execution_count": 57,
   "metadata": {},
   "outputs": [],
   "source": [
    "def model_test(z):\n",
    "    X_train, X_test, y_train, y_test = train_test_split(X, y, test_size=0.2, random_state=19698)\n",
    "    lm = z\n",
    "    lm_model = lm.fit(X_train,y_train)\n",
    "    lm_predictions = lm_model.predict(X_test)\n",
    "    lm_score =lm.score(X_test, y_test)\n",
    "    MAE = mean_absolute_error(y_test,lm_predictions)\n",
    "    MSE = mean_squared_error(y_test,lm_predictions)\n",
    "    RMSE = np.sqrt(MSE)\n",
    "    R2 = r2_score(y_test,lm_predictions)\n",
    "    print(\"The mean absolute error of the model in the test set is: %6.2f\" % (MAE))\n",
    "    print(\"The mean squared error of the model in the test set is: %6.2f\" % (MSE))\n",
    "    print(\"The root mean squared error of the model in the test set is: %6.2f\" % (RMSE))\n",
    "    print(\"The R2 of the model in the test set is: %4.2f\" % (R2))"
   ]
  },
  {
   "cell_type": "code",
   "execution_count": 58,
   "metadata": {},
   "outputs": [
    {
     "name": "stdout",
     "output_type": "stream",
     "text": [
      "The mean absolute error of the model in the test set is: 120.65\n",
      "The mean squared error of the model in the test set is: 30722.06\n",
      "The root mean squared error of the model in the test set is: 175.28\n",
      "The R2 of the model in the test set is: 0.62\n"
     ]
    }
   ],
   "source": [
    "model_test(MLPRegressor(random_state=1,max_iter=500))"
   ]
  }
 ],
 "metadata": {
  "kernelspec": {
   "display_name": "Python 3",
   "language": "python",
   "name": "python3"
  },
  "language_info": {
   "codemirror_mode": {
    "name": "ipython",
    "version": 3
   },
   "file_extension": ".py",
   "mimetype": "text/x-python",
   "name": "python",
   "nbconvert_exporter": "python",
   "pygments_lexer": "ipython3",
   "version": "3.8.3"
  }
 },
 "nbformat": 4,
 "nbformat_minor": 4
}
